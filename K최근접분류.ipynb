{
  "nbformat": 4,
  "nbformat_minor": 0,
  "metadata": {
    "colab": {
      "provenance": [],
      "collapsed_sections": [],
      "toc_visible": true,
      "authorship_tag": "ABX9TyO9JjqhLJGiUHFmnyUwlp87",
      "include_colab_link": true
    },
    "kernelspec": {
      "name": "python3",
      "display_name": "Python 3"
    },
    "language_info": {
      "name": "python"
    }
  },
  "cells": [
    {
      "cell_type": "markdown",
      "metadata": {
        "id": "view-in-github",
        "colab_type": "text"
      },
      "source": [
        "<a href=\"https://colab.research.google.com/github/hojin99/aitest/blob/main/K%EC%B5%9C%EA%B7%BC%EC%A0%91%EB%B6%84%EB%A5%98.ipynb\" target=\"_parent\"><img src=\"https://colab.research.google.com/assets/colab-badge.svg\" alt=\"Open In Colab\"/></a>"
      ]
    },
    {
      "cell_type": "markdown",
      "metadata": {
        "id": "XEKwJkuSev4w"
      },
      "source": [
        "# 데이터 생성"
      ]
    },
    {
      "cell_type": "code",
      "metadata": {
        "id": "hUxdJwapT5Wo",
        "colab": {
          "base_uri": "https://localhost:8080/",
          "height": 350
        },
        "outputId": "d03b48d0-2da8-4763-acd7-2fed261e6588"
      },
      "source": [
        "import matplotlib.pyplot as plt\n",
        "import numpy as np\n",
        "\n",
        "\n",
        "# plt내에 속성이 잘못 할당 되면 plt를 다시 로드해야지 제대로 적용됨 (예) plt.xlable = 'length') \n",
        "# from importlib import reload\n",
        "# reload(plt)\n",
        "\n",
        "# 데이터 생성\n",
        "bream_length = [25.4, 26.3, 26.5, 29.0, 29.0, 29.7, 29.7, 30.0, 30.0, 30.7, 31.0, 31.0, 31.5, 32.0, 32.0, 32.0, 33.0, 33.0, 33.5, 33.5, 34.0, 34.0, 34.5, 35.0, 35.0, 35.0, 35.0, 36.0, 36.0, 37.0, 38.5, 38.5, 39.5, 41.0, 41.0]\n",
        "bream_weight = [242.0, 290.0, 340.0, 363.0, 430.0, 450.0, 500.0, 390.0, 450.0, 500.0, 475.0, 500.0, 500.0, 340.0, 600.0, 600.0, 700.0, 700.0, 610.0, 650.0, 575.0, 685.0, 620.0, 680.0, 700.0, 725.0, 720.0, 714.0, 850.0, 1000.0, 920.0, 955.0, 925.0, 975.0, 950.0]\n",
        "smelt_length = [9.8, 10.5, 10.6, 11.0, 11.2, 11.3, 11.8, 11.8, 12.0, 12.2, 12.4, 13.0, 14.3, 15.0]\n",
        "smelt_weight = [6.7, 7.5, 7.0, 9.7, 9.8, 8.7, 10.0, 9.9, 9.8, 12.2, 13.4, 12.2, 19.7, 19.9]\n",
        "\n",
        "# 그래프로 확인 (pyplot 이용)\n",
        "plt.scatter(bream_length, bream_weight)\n",
        "plt.scatter(smelt_length, smelt_weight)\n",
        "plt.title('test-1')\n",
        "plt.xlabel('length')\n",
        "plt.ylabel('weight')\n",
        "plt.xlim((0, 1000))\n",
        "plt.show()\n",
        "\n",
        "# 합치기\n",
        "length = bream_length+smelt_length\n",
        "weight = bream_weight+smelt_weight\n",
        "\n",
        "# zip 이용\n",
        "# fish_data = [[l,w] for l,w in zip(length, weight)]\n",
        "# numpy 이용\n",
        "fish_data = np.column_stack([length, weight])\n",
        "# print(fish_data)\n",
        "\n",
        "# 직접 생성\n",
        "fish_target = [1]*35 + [0]*14\n",
        "# numpy이용\n",
        "fish_target = np.concatenate((np.ones(35), np.zeros(14)))\n",
        "fish_target = np.hstack((np.ones(35), np.zeros(14)))\n",
        "# print(fish_target)\n"
      ],
      "execution_count": null,
      "outputs": [
        {
          "output_type": "display_data",
          "data": {
            "text/plain": [
              "<Figure size 432x288 with 1 Axes>"
            ],
            "image/png": "[encoded data removed]"
          },
          "metadata": {
            "needs_background": "light"
          }
        },
        {
          "output_type": "stream",
          "name": "stdout",
          "text": [
            "[1. 1. 1. 1. 1. 1. 1. 1. 1. 1. 1. 1. 1. 1. 1. 1. 1. 1. 1. 1. 1. 1. 1. 1.\n",
            " 1. 1. 1. 1. 1. 1. 1. 1. 1. 1. 1. 0. 0. 0. 0. 0. 0. 0. 0. 0. 0. 0. 0. 0.\n",
            " 0.]\n"
          ]
        }
      ]
    },
    {
      "cell_type": "markdown",
      "metadata": {
        "id": "hsi1tsdTzTv6"
      },
      "source": [
        "# 데이터 표준화"
      ]
    },
    {
      "cell_type": "code",
      "metadata": {
        "colab": {
          "base_uri": "https://localhost:8080/"
        },
        "id": "oqGp78-0zWFG",
        "outputId": "478c8d77-52e8-4c30-a45b-4e29a187af99"
      },
      "source": [
        "# 표준화 - 특성들의 스케일이 다르기 때문에 맞춰주는 작업\n",
        "# (값 - 평균) / 표준편차\n",
        "\n",
        "mean = np.mean(fish_data, axis=0)\n",
        "print(mean)\n",
        "\n",
        "std = np.std(fish_data, axis=0)\n",
        "print(std)\n",
        "\n",
        "fish_data2 = (fish_data - mean) / std\n",
        "print(fish_data2)"
      ],
      "execution_count": null,
      "outputs": [
        {
          "output_type": "stream",
          "name": "stdout",
          "text": [
            "[ 27.05510204 444.5       ]\n",
            "[ 10.13774642 324.77757224]\n",
            "[[-0.16326134 -0.62350364]\n",
            " [-0.07448421 -0.47571019]\n",
            " [-0.05475596 -0.32175867]\n",
            " [ 0.19184717 -0.25094097]\n",
            " [ 0.19184717 -0.04464594]\n",
            " [ 0.26089605  0.01693467]\n",
            " [ 0.26089605  0.17088618]\n",
            " [ 0.29048842 -0.16780715]\n",
            " [ 0.29048842  0.01693467]\n",
            " [ 0.3595373   0.17088618]\n",
            " [ 0.38912967  0.09391043]\n",
            " [ 0.38912967  0.17088618]\n",
            " [ 0.4384503   0.17088618]\n",
            " [ 0.48777093 -0.32175867]\n",
            " [ 0.48777093  0.47878922]\n",
            " [ 0.48777093  0.47878922]\n",
            " [ 0.58641218  0.78669225]\n",
            " [ 0.58641218  0.78669225]\n",
            " [ 0.6357328   0.50957952]\n",
            " [ 0.6357328   0.63274074]\n",
            " [ 0.68505343  0.40181346]\n",
            " [ 0.68505343  0.7405068 ]\n",
            " [ 0.73437406  0.54036983]\n",
            " [ 0.78369468  0.72511165]\n",
            " [ 0.78369468  0.78669225]\n",
            " [ 0.78369468  0.86366801]\n",
            " [ 0.78369468  0.84827286]\n",
            " [ 0.88233593  0.82979868]\n",
            " [ 0.88233593  1.2485468 ]\n",
            " [ 0.98097719  1.71040136]\n",
            " [ 1.12893906  1.46407893]\n",
            " [ 1.12893906  1.57184499]\n",
            " [ 1.22758032  1.47947408]\n",
            " [ 1.37554219  1.6334256 ]\n",
            " [ 1.37554219  1.55644984]\n",
            " [-1.70206487 -1.34799948]\n",
            " [-1.63301599 -1.34553626]\n",
            " [-1.62315187 -1.34707578]\n",
            " [-1.58369537 -1.33876239]\n",
            " [-1.56396712 -1.33845449]\n",
            " [-1.55410299 -1.34184142]\n",
            " [-1.50478237 -1.33783868]\n",
            " [-1.50478237 -1.33814659]\n",
            " [-1.48505411 -1.33845449]\n",
            " [-1.46532586 -1.33106482]\n",
            " [-1.44559761 -1.32736998]\n",
            " [-1.38641286 -1.33106482]\n",
            " [-1.25817924 -1.30797209]\n",
            " [-1.18913036 -1.30735628]]\n"
          ]
        }
      ]
    },
    {
      "cell_type": "markdown",
      "metadata": {
        "id": "oDCxtQhqq3CA"
      },
      "source": [
        "# 훈련데이터, 테스트데이터로 나누기"
      ]
    },
    {
      "cell_type": "code",
      "metadata": {
        "colab": {
          "base_uri": "https://localhost:8080/",
          "height": 295
        },
        "id": "lEUOOzbbq3YA",
        "outputId": "7adcec52-6301-4dbd-f959-c4f7206b39bb"
      },
      "source": [
        "# numpy이용해서 훈련데이터, 테스트데이터 나누기\n",
        "# input_array = np.array(fish_data)\n",
        "# output_array = np.array(fish_target)\n",
        "\n",
        "# index = np.arange(49)\n",
        "# print(index)\n",
        "# np.random.shuffle(index)\n",
        "# print(index)\n",
        "\n",
        "# train_input = input_array[index[:35]]\n",
        "# train_target = output_array[index[:35]]\n",
        "\n",
        "# test_input = input_array[index[35:]]\n",
        "# test_target = output_array[index[35:]]\n",
        "\n",
        "# scikitlearn이용해서 훈련데이터, 테스트 데이터 나누기\n",
        "from sklearn.model_selection import train_test_split\n",
        "\n",
        "train_input, test_input, train_target, test_target = train_test_split(\n",
        "    fish_data2, fish_target, random_state=42)\n",
        "\n",
        "plt.scatter(train_input[:,0], train_input[:,1])\n",
        "plt.scatter(test_input[:,0], test_input[:,1])\n",
        "plt.title('test2')\n",
        "plt.xlabel('length')\n",
        "plt.ylabel('weight')\n",
        "plt.show()"
      ],
      "execution_count": null,
      "outputs": [
        {
          "output_type": "display_data",
          "data": {
            "text/plain": [
              "<Figure size 432x288 with 1 Axes>"
            ],
            "image/png": "[encoded data removed]"
          },
          "metadata": {
            "needs_background": "light"
          }
        }
      ]
    },
    {
      "cell_type": "markdown",
      "metadata": {
        "id": "0Uhl0qumesJD"
      },
      "source": [
        "# 학습, 예측"
      ]
    },
    {
      "cell_type": "code",
      "metadata": {
        "colab": {
          "base_uri": "https://localhost:8080/"
        },
        "id": "wTUPPsRGez4x",
        "outputId": "0d96242e-8410-4d57-9f2a-c8fc3607211c"
      },
      "source": [
        "from sklearn.neighbors import KNeighborsClassifier\n",
        "\n",
        "# 학습\n",
        "kn = KNeighborsClassifier()\n",
        "kn.fit(train_input, train_target)\n",
        "\n",
        "# 테스트 데이터로 예측\n",
        "print(kn.predict(test_input))\n",
        "print(test_target)\n",
        "print(kn.score(test_input, test_target))\n",
        "\n",
        "# 임의의 값 예측 (표준화를 거쳐서 예측 필요)\n",
        "print(kn.predict([([10,10]-mean)/std]))\n",
        "print(kn.predict([([25,300]-mean)/std]))"
      ],
      "execution_count": null,
      "outputs": [
        {
          "output_type": "stream",
          "text": [
            "[1. 0. 0. 0. 1. 1. 1. 1. 1. 1. 1. 1. 1.]\n",
            "[1. 0. 0. 0. 1. 1. 1. 1. 1. 1. 1. 1. 1.]\n",
            "1.0\n",
            "[0.]\n",
            "[1.]\n"
          ],
          "name": "stdout"
        }
      ]
    }
  ]
}