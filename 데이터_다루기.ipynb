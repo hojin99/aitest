{
  "nbformat": 4,
  "nbformat_minor": 0,
  "metadata": {
    "colab": {
      "provenance": [],
      "collapsed_sections": [],
      "authorship_tag": "ABX9TyMXoJ3B10xmtG/pqtxd4V+L",
      "include_colab_link": true
    },
    "kernelspec": {
      "name": "python3",
      "display_name": "Python 3"
    },
    "language_info": {
      "name": "python"
    }
  },
  "cells": [
    {
      "cell_type": "markdown",
      "metadata": {
        "id": "view-in-github",
        "colab_type": "text"
      },
      "source": [
        "<a href=\"https://colab.research.google.com/github/hojin99/aitest/blob/main/%EB%8D%B0%EC%9D%B4%ED%84%B0_%EB%8B%A4%EB%A3%A8%EA%B8%B0.ipynb\" target=\"_parent\"><img src=\"https://colab.research.google.com/assets/colab-badge.svg\" alt=\"Open In Colab\"/></a>"
      ]
    },
    {
      "cell_type": "markdown",
      "source": [
        "### 배열 합치기"
      ],
      "metadata": {
        "id": "FRe6Fzz0tyhe"
      }
    },
    {
      "cell_type": "code",
      "execution_count": 9,
      "metadata": {
        "colab": {
          "base_uri": "https://localhost:8080/"
        },
        "id": "YUp52ev6sQWd",
        "outputId": "6fc4c67e-eae0-4b82-9e99-bc03c8dcd5d6"
      },
      "outputs": [
        {
          "output_type": "stream",
          "name": "stdout",
          "text": [
            "(10,)\n",
            "(10,)\n",
            "[ 0  1  2  3  4  5  6  7  8  9 11 12 13 14 15 16 17 18 19 20]\n",
            "(20,)\n",
            "[[ 0  1  2  3  4  5  6  7  8  9]\n",
            " [11 12 13 14 15 16 17 18 19 20]]\n",
            "(2, 10)\n",
            "[[ 0 11]\n",
            " [ 1 12]\n",
            " [ 2 13]\n",
            " [ 3 14]\n",
            " [ 4 15]\n",
            " [ 5 16]\n",
            " [ 6 17]\n",
            " [ 7 18]\n",
            " [ 8 19]\n",
            " [ 9 20]]\n",
            "(10, 2)\n"
          ]
        }
      ],
      "source": [
        "import numpy as np\n",
        "\n",
        "a = np.arange(10)\n",
        "b = np.arange(11,21)\n",
        "\n",
        "print(a.shape)\n",
        "print(b.shape)\n",
        "\n",
        "# 차원 변경 없이 합치기\n",
        "c = np.hstack([a,b])\n",
        "print(c)\n",
        "print(c.shape)\n",
        "# row 단위로 합치기\n",
        "d = np.vstack([a,b])\n",
        "print(d)\n",
        "print(d.shape)\n",
        "# column 단위로 합치기\n",
        "e = np.column_stack([a,b])\n",
        "print(e)\n",
        "print(e.shape)"
      ]
    },
    {
      "cell_type": "code",
      "source": [],
      "metadata": {
        "id": "XS2r-_f5smOe"
      },
      "execution_count": null,
      "outputs": []
    }
  ]
}