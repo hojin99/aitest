{
  "nbformat": 4,
  "nbformat_minor": 0,
  "metadata": {
    "colab": {
      "provenance": [],
      "authorship_tag": "ABX9TyMNrjbOX/eefdT43bTHmpso",
      "include_colab_link": true
    },
    "kernelspec": {
      "name": "python3",
      "display_name": "Python 3"
    },
    "language_info": {
      "name": "python"
    }
  },
  "cells": [
    {
      "cell_type": "markdown",
      "metadata": {
        "id": "view-in-github",
        "colab_type": "text"
      },
      "source": [
        "<a href=\"https://colab.research.google.com/github/hojin99/aitest/blob/main/%EB%8D%B0%EC%9D%B4%ED%84%B0_%EB%8B%A4%EB%A3%A8%EA%B8%B0.ipynb\" target=\"_parent\"><img src=\"https://colab.research.google.com/assets/colab-badge.svg\" alt=\"Open In Colab\"/></a>"
      ]
    },
    {
      "cell_type": "markdown",
      "source": [
        "### 배열 생성"
      ],
      "metadata": {
        "id": "IVwQih3A2HQd"
      }
    },
    {
      "cell_type": "code",
      "source": [
        "ret = range(5, 20, 1)\n",
        "\n",
        "print(list(ret))"
      ],
      "metadata": {
        "id": "CfLKBan1pWIi",
        "colab": {
          "base_uri": "https://localhost:8080/"
        },
        "outputId": "64afb77f-6273-4338-d0ec-2ddb8fe7abcd"
      },
      "execution_count": 10,
      "outputs": [
        {
          "output_type": "stream",
          "name": "stdout",
          "text": [
            "[5, 6, 7, 8, 9, 10, 11, 12, 13, 14, 15, 16, 17, 18, 19]\n"
          ]
        }
      ]
    },
    {
      "cell_type": "code",
      "source": [
        "import numpy as np\n",
        "\n",
        "np.arange(0.0001, 0.001, 0.0001)"
      ],
      "metadata": {
        "colab": {
          "base_uri": "https://localhost:8080/"
        },
        "id": "CsTs7luu2ZaO",
        "outputId": "b182067e-24c7-4f37-d8d2-9d70c90c70e0"
      },
      "execution_count": 12,
      "outputs": [
        {
          "output_type": "execute_result",
          "data": {
            "text/plain": [
              "array([0.0001, 0.0002, 0.0003, 0.0004, 0.0005, 0.0006, 0.0007, 0.0008,\n",
              "       0.0009])"
            ]
          },
          "metadata": {},
          "execution_count": 12
        }
      ]
    },
    {
      "cell_type": "markdown",
      "source": [
        "### 랜덤 숫자 생성"
      ],
      "metadata": {
        "id": "0lERKeRB9eTV"
      }
    },
    {
      "cell_type": "code",
      "source": [
        "from scipy.stats import uniform, randint\n",
        "\n",
        "print(randint(0,10).rvs(5))\n",
        "print(uniform(0,1).rvs(5))\n"
      ],
      "metadata": {
        "colab": {
          "base_uri": "https://localhost:8080/"
        },
        "id": "ewnZ6s989iKT",
        "outputId": "5da405ea-4732-44fa-eeab-6c0faad434ec"
      },
      "execution_count": 15,
      "outputs": [
        {
          "output_type": "stream",
          "name": "stdout",
          "text": [
            "[5 6 2 4 7]\n",
            "[0.40616528 0.09670315 0.47079516 0.42620733 0.49545717]\n"
          ]
        }
      ]
    },
    {
      "cell_type": "markdown",
      "source": [
        "### numpy로 ndarray 배열 합치기"
      ],
      "metadata": {
        "id": "FRe6Fzz0tyhe"
      }
    },
    {
      "cell_type": "code",
      "execution_count": null,
      "metadata": {
        "colab": {
          "base_uri": "https://localhost:8080/"
        },
        "id": "YUp52ev6sQWd",
        "outputId": "6fc4c67e-eae0-4b82-9e99-bc03c8dcd5d6"
      },
      "outputs": [
        {
          "output_type": "stream",
          "name": "stdout",
          "text": [
            "(10,)\n",
            "(10,)\n",
            "[ 0  1  2  3  4  5  6  7  8  9 11 12 13 14 15 16 17 18 19 20]\n",
            "(20,)\n",
            "[[ 0  1  2  3  4  5  6  7  8  9]\n",
            " [11 12 13 14 15 16 17 18 19 20]]\n",
            "(2, 10)\n",
            "[[ 0 11]\n",
            " [ 1 12]\n",
            " [ 2 13]\n",
            " [ 3 14]\n",
            " [ 4 15]\n",
            " [ 5 16]\n",
            " [ 6 17]\n",
            " [ 7 18]\n",
            " [ 8 19]\n",
            " [ 9 20]]\n",
            "(10, 2)\n"
          ]
        }
      ],
      "source": [
        "import numpy as np\n",
        "\n",
        "a = np.arange(10)\n",
        "b = np.arange(11,21)\n",
        "\n",
        "print(a.shape)\n",
        "print(b.shape)\n",
        "\n",
        "# 차원 변경 없이 합치기\n",
        "c = np.hstack([a,b])\n",
        "print(c)\n",
        "print(c.shape)\n",
        "# row 단위로 합치기\n",
        "d = np.vstack([a,b])\n",
        "print(d)\n",
        "print(d.shape)\n",
        "# column 단위로 합치기\n",
        "e = np.column_stack([a,b])\n",
        "print(e)\n",
        "print(e.shape)"
      ]
    },
    {
      "cell_type": "markdown",
      "source": [
        "### pandas로 csv 데이터 가져와서 내용 확인하기"
      ],
      "metadata": {
        "id": "1NiconXv52ag"
      }
    },
    {
      "cell_type": "code",
      "source": [
        "import pandas as pd\n",
        "\n",
        "fish = pd.read_csv('https://bit.ly/fish_csv_data')\n",
        "\n",
        "print(fish.head())\n",
        "print('---------------')\n",
        "print(fish.describe())\n",
        "print('---------------')\n",
        "print(pd.unique(fish['Species']))\n",
        "print('---------------')\n",
        "print(fish['Length'].max())\n",
        "print(fish['Length'].mean())\n",
        "print(fish['Length'].var())\n"
      ],
      "metadata": {
        "id": "XS2r-_f5smOe",
        "colab": {
          "base_uri": "https://localhost:8080/"
        },
        "outputId": "6fa8386e-f651-4cf7-8164-8211ddd555da"
      },
      "execution_count": null,
      "outputs": [
        {
          "output_type": "stream",
          "name": "stdout",
          "text": [
            "  Species  Weight  Length  Diagonal   Height   Width\n",
            "0   Bream   242.0    25.4      30.0  11.5200  4.0200\n",
            "1   Bream   290.0    26.3      31.2  12.4800  4.3056\n",
            "2   Bream   340.0    26.5      31.1  12.3778  4.6961\n",
            "3   Bream   363.0    29.0      33.5  12.7300  4.4555\n",
            "4   Bream   430.0    29.0      34.0  12.4440  5.1340\n",
            "---------------\n",
            "            Weight      Length    Diagonal      Height       Width\n",
            "count   159.000000  159.000000  159.000000  159.000000  159.000000\n",
            "mean    398.326415   28.415723   31.227044    8.970994    4.417486\n",
            "std     357.978317   10.716328   11.610246    4.286208    1.685804\n",
            "min       0.000000    8.400000    8.800000    1.728400    1.047600\n",
            "25%     120.000000   21.000000   23.150000    5.944800    3.385650\n",
            "50%     273.000000   27.300000   29.400000    7.786000    4.248500\n",
            "75%     650.000000   35.500000   39.650000   12.365900    5.584500\n",
            "max    1650.000000   63.400000   68.000000   18.957000    8.142000\n",
            "---------------\n",
            "['Bream' 'Roach' 'Whitefish' 'Parkki' 'Perch' 'Pike' 'Smelt']\n",
            "---------------\n",
            "63.4\n",
            "28.415723270440253\n",
            "114.83968792293608\n"
          ]
        }
      ]
    },
    {
      "cell_type": "markdown",
      "source": [
        "### 정규화"
      ],
      "metadata": {
        "id": "LKiYJ_T1oMlr"
      }
    },
    {
      "cell_type": "code",
      "source": [
        "import numpy as np\n",
        "from sklearn.model_selection import train_test_split\n",
        "from sklearn.preprocessing import StandardScaler\n",
        "\n",
        "fish_full = fish[['Weight','Length','Height','Width']].to_numpy()\n",
        "print(fish_full[:10])\n",
        "\n",
        "ss = StandardScaler()\n",
        "ss.fit(fish_full)\n",
        "\n",
        "fish_full_scaled = ss.transform(fish_full)\n",
        "print(fish_full_scaled[:10])\n"
      ],
      "metadata": {
        "id": "g0IDQ80b5Vuu",
        "colab": {
          "base_uri": "https://localhost:8080/"
        },
        "outputId": "31c976c9-a14f-44e5-b7c3-bb165bc0b3bc"
      },
      "execution_count": null,
      "outputs": [
        {
          "output_type": "stream",
          "name": "stdout",
          "text": [
            "[[242.      25.4     11.52     4.02  ]\n",
            " [290.      26.3     12.48     4.3056]\n",
            " [340.      26.5     12.3778   4.6961]\n",
            " [363.      29.      12.73     4.4555]\n",
            " [430.      29.      12.444    5.134 ]\n",
            " [450.      29.7     13.6024   4.9274]\n",
            " [500.      29.7     14.1795   5.2785]\n",
            " [390.      30.      12.67     4.69  ]\n",
            " [450.      30.      14.0049   4.8438]\n",
            " [500.      30.7     14.2266   4.9594]]\n",
            "[[-0.43807217 -0.28230301  0.59657867 -0.23652895]\n",
            " [-0.30356218 -0.19805366  0.82126055 -0.06657895]\n",
            " [-0.16344761 -0.17933159  0.79734129  0.16579317]\n",
            " [-0.09899491  0.05469437  0.87977146  0.022621  ]\n",
            " [ 0.08875862  0.05469437  0.81283498  0.42637127]\n",
            " [ 0.14480444  0.12022164  1.08395111  0.30343125]\n",
            " [ 0.28491901  0.12022164  1.21901769  0.51235788]\n",
            " [-0.02333304  0.14830475  0.86572884  0.16216328]\n",
            " [ 0.14480444  0.14830475  1.17815367  0.25368398]\n",
            " [ 0.28491901  0.21383202  1.23004114  0.32247327]]\n"
          ]
        }
      ]
    },
    {
      "cell_type": "code",
      "source": [],
      "metadata": {
        "id": "HejkorCf2jnL"
      },
      "execution_count": null,
      "outputs": []
    }
  ]
}