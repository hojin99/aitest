{
  "nbformat": 4,
  "nbformat_minor": 0,
  "metadata": {
    "colab": {
      "provenance": [],
      "collapsed_sections": [],
      "authorship_tag": "ABX9TyNYoUBV1OLjP72Ty1oBKbtk",
      "include_colab_link": true
    },
    "kernelspec": {
      "name": "python3",
      "display_name": "Python 3"
    },
    "language_info": {
      "name": "python"
    }
  },
  "cells": [
    {
      "cell_type": "markdown",
      "metadata": {
        "id": "view-in-github",
        "colab_type": "text"
      },
      "source": [
        "<a href=\"https://colab.research.google.com/github/hojin99/aitest/blob/main/%EB%8D%B0%EC%9D%B4%ED%84%B0_%EB%8B%A4%EB%A3%A8%EA%B8%B0.ipynb\" target=\"_parent\"><img src=\"https://colab.research.google.com/assets/colab-badge.svg\" alt=\"Open In Colab\"/></a>"
      ]
    },
    {
      "cell_type": "markdown",
      "source": [
        "### numpy로 ndarray 배열 합치기"
      ],
      "metadata": {
        "id": "FRe6Fzz0tyhe"
      }
    },
    {
      "cell_type": "code",
      "execution_count": null,
      "metadata": {
        "colab": {
          "base_uri": "https://localhost:8080/"
        },
        "id": "YUp52ev6sQWd",
        "outputId": "6fc4c67e-eae0-4b82-9e99-bc03c8dcd5d6"
      },
      "outputs": [
        {
          "output_type": "stream",
          "name": "stdout",
          "text": [
            "(10,)\n",
            "(10,)\n",
            "[ 0  1  2  3  4  5  6  7  8  9 11 12 13 14 15 16 17 18 19 20]\n",
            "(20,)\n",
            "[[ 0  1  2  3  4  5  6  7  8  9]\n",
            " [11 12 13 14 15 16 17 18 19 20]]\n",
            "(2, 10)\n",
            "[[ 0 11]\n",
            " [ 1 12]\n",
            " [ 2 13]\n",
            " [ 3 14]\n",
            " [ 4 15]\n",
            " [ 5 16]\n",
            " [ 6 17]\n",
            " [ 7 18]\n",
            " [ 8 19]\n",
            " [ 9 20]]\n",
            "(10, 2)\n"
          ]
        }
      ],
      "source": [
        "import numpy as np\n",
        "\n",
        "a = np.arange(10)\n",
        "b = np.arange(11,21)\n",
        "\n",
        "print(a.shape)\n",
        "print(b.shape)\n",
        "\n",
        "# 차원 변경 없이 합치기\n",
        "c = np.hstack([a,b])\n",
        "print(c)\n",
        "print(c.shape)\n",
        "# row 단위로 합치기\n",
        "d = np.vstack([a,b])\n",
        "print(d)\n",
        "print(d.shape)\n",
        "# column 단위로 합치기\n",
        "e = np.column_stack([a,b])\n",
        "print(e)\n",
        "print(e.shape)"
      ]
    },
    {
      "cell_type": "markdown",
      "source": [
        "### pandas로 csv 데이터 가져와서 내용 확인하기"
      ],
      "metadata": {
        "id": "1NiconXv52ag"
      }
    },
    {
      "cell_type": "code",
      "source": [
        "import pandas as pd\n",
        "\n",
        "fish = pd.read_csv('https://bit.ly/fish_csv_data')\n",
        "\n",
        "print(fish.head())\n",
        "print('---------------')\n",
        "print(fish.describe())\n",
        "print('---------------')\n",
        "pd.unique(fish['Species'])\n"
      ],
      "metadata": {
        "id": "XS2r-_f5smOe",
        "colab": {
          "base_uri": "https://localhost:8080/"
        },
        "outputId": "a30a3236-6cc4-49c4-d890-042f2d3bca10"
      },
      "execution_count": 14,
      "outputs": [
        {
          "output_type": "stream",
          "name": "stdout",
          "text": [
            "  Species  Weight  Length  Diagonal   Height   Width\n",
            "0   Bream   242.0    25.4      30.0  11.5200  4.0200\n",
            "1   Bream   290.0    26.3      31.2  12.4800  4.3056\n",
            "2   Bream   340.0    26.5      31.1  12.3778  4.6961\n",
            "3   Bream   363.0    29.0      33.5  12.7300  4.4555\n",
            "4   Bream   430.0    29.0      34.0  12.4440  5.1340\n",
            "---------------\n",
            "            Weight      Length    Diagonal      Height       Width\n",
            "count   159.000000  159.000000  159.000000  159.000000  159.000000\n",
            "mean    398.326415   28.415723   31.227044    8.970994    4.417486\n",
            "std     357.978317   10.716328   11.610246    4.286208    1.685804\n",
            "min       0.000000    8.400000    8.800000    1.728400    1.047600\n",
            "25%     120.000000   21.000000   23.150000    5.944800    3.385650\n",
            "50%     273.000000   27.300000   29.400000    7.786000    4.248500\n",
            "75%     650.000000   35.500000   39.650000   12.365900    5.584500\n",
            "max    1650.000000   63.400000   68.000000   18.957000    8.142000\n",
            "---------------\n"
          ]
        },
        {
          "output_type": "execute_result",
          "data": {
            "text/plain": [
              "array(['Bream', 'Roach', 'Whitefish', 'Parkki', 'Perch', 'Pike', 'Smelt'],\n",
              "      dtype=object)"
            ]
          },
          "metadata": {},
          "execution_count": 14
        }
      ]
    },
    {
      "cell_type": "code",
      "source": [],
      "metadata": {
        "id": "g0IDQ80b5Vuu"
      },
      "execution_count": null,
      "outputs": []
    }
  ]
}