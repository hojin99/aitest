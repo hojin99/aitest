{
  "nbformat": 4,
  "nbformat_minor": 0,
  "metadata": {
    "colab": {
      "provenance": [],
      "toc_visible": true,
      "collapsed_sections": [],
      "authorship_tag": "ABX9TyPqy8vF23GkFtxS2C6Qp77v",
      "include_colab_link": true
    },
    "kernelspec": {
      "name": "python3",
      "display_name": "Python 3"
    },
    "language_info": {
      "name": "python"
    }
  },
  "cells": [
    {
      "cell_type": "markdown",
      "metadata": {
        "id": "view-in-github",
        "colab_type": "text"
      },
      "source": [
        "<a href=\"https://colab.research.google.com/github/hojin99/aitest/blob/main/%EB%A1%9C%EC%A7%80%EC%8A%A4%ED%8B%B1%ED%9A%8C%EA%B7%80.ipynb\" target=\"_parent\"><img src=\"https://colab.research.google.com/assets/colab-badge.svg\" alt=\"Open In Colab\"/></a>"
      ]
    },
    {
      "cell_type": "markdown",
      "metadata": {
        "id": "uSSZiHAB5GwD"
      },
      "source": [
        "### 데이터 준비"
      ]
    },
    {
      "cell_type": "code",
      "metadata": {
        "colab": {
          "base_uri": "https://localhost:8080/"
        },
        "id": "CRwryqaA5Jxf",
        "outputId": "a133f32b-ea4d-4d1f-9428-eec15ab0e182"
      },
      "source": [
        "import pandas as pd\n",
        "from sklearn.model_selection import train_test_split\n",
        "from sklearn.preprocessing import StandardScaler\n",
        "\n",
        "fish = pd.read_csv('https://bit.ly/fish_csv_data')\n",
        "print(fish.head())\n",
        "print('-------------------')\n",
        "print(fish.describe())\n",
        "print('-------------------')\n",
        "print(pd.unique(fish['Species']))\n",
        "\n",
        "fish_input = fish[['Weight','Length','Diagonal','Height','Width']].to_numpy()\n",
        "fish_target = fish['Species'].to_numpy()\n",
        "print('-------------------')\n",
        "print(fish_input[:5])\n",
        "\n",
        "# 훈련, 테스트 데이터 나누기\n",
        "train_input, test_input, train_target, test_target = train_test_split(fish_input, fish_target, random_state=42)\n",
        "\n",
        "#  표준화\n",
        "ss = StandardScaler()\n",
        "ss.fit(train_input)\n",
        "train_scaled = ss.transform(train_input)\n",
        "test_scaled = ss.transform(test_input)\n"
      ],
      "execution_count": 2,
      "outputs": [
        {
          "output_type": "stream",
          "name": "stdout",
          "text": [
            "  Species  Weight  Length  Diagonal   Height   Width\n",
            "0   Bream   242.0    25.4      30.0  11.5200  4.0200\n",
            "1   Bream   290.0    26.3      31.2  12.4800  4.3056\n",
            "2   Bream   340.0    26.5      31.1  12.3778  4.6961\n",
            "3   Bream   363.0    29.0      33.5  12.7300  4.4555\n",
            "4   Bream   430.0    29.0      34.0  12.4440  5.1340\n",
            "-------------------\n",
            "            Weight      Length    Diagonal      Height       Width\n",
            "count   159.000000  159.000000  159.000000  159.000000  159.000000\n",
            "mean    398.326415   28.415723   31.227044    8.970994    4.417486\n",
            "std     357.978317   10.716328   11.610246    4.286208    1.685804\n",
            "min       0.000000    8.400000    8.800000    1.728400    1.047600\n",
            "25%     120.000000   21.000000   23.150000    5.944800    3.385650\n",
            "50%     273.000000   27.300000   29.400000    7.786000    4.248500\n",
            "75%     650.000000   35.500000   39.650000   12.365900    5.584500\n",
            "max    1650.000000   63.400000   68.000000   18.957000    8.142000\n",
            "-------------------\n",
            "['Bream' 'Roach' 'Whitefish' 'Parkki' 'Perch' 'Pike' 'Smelt']\n",
            "-------------------\n",
            "[[242.      25.4     30.      11.52     4.02  ]\n",
            " [290.      26.3     31.2     12.48     4.3056]\n",
            " [340.      26.5     31.1     12.3778   4.6961]\n",
            " [363.      29.      33.5     12.73     4.4555]\n",
            " [430.      29.      34.      12.444    5.134 ]]\n"
          ]
        }
      ]
    },
    {
      "cell_type": "markdown",
      "metadata": {
        "id": "7xSyta9u95Xe"
      },
      "source": [
        "### K최근접 분류 (이진 분류)"
      ]
    },
    {
      "cell_type": "code",
      "metadata": {
        "colab": {
          "base_uri": "https://localhost:8080/"
        },
        "id": "UoiDef7vBcqs",
        "outputId": "ae61b5cc-9ac9-4187-d621-5139aa1f7a7d"
      },
      "source": [
        "from sklearn.neighbors import KNeighborsClassifier\n",
        "import numpy as np\n",
        "\n",
        "kn = KNeighborsClassifier(n_neighbors=3)\n",
        "kn.fit(train_scaled, train_target)\n",
        "\n",
        "# 각 클래스의 순서 값 (0-Bream...)\n",
        "print(kn.classes_)\n",
        "# 분류 결과\n",
        "print(kn.predict(test_scaled[:5]))\n",
        "\n",
        "# 각 클래스의 확률값을 리턴\n",
        "# 확률값이 상세하게 나오지 못함 (이웃의 비율을 이용하기 때문에)\n",
        "proba = kn.predict_proba(test_scaled[:5])\n",
        "print(np.round(proba, decimals=4))"
      ],
      "execution_count": 4,
      "outputs": [
        {
          "output_type": "stream",
          "name": "stdout",
          "text": [
            "['Bream' 'Parkki' 'Perch' 'Pike' 'Roach' 'Smelt' 'Whitefish']\n",
            "['Perch' 'Smelt' 'Pike' 'Perch' 'Perch']\n",
            "[[0.     0.     1.     0.     0.     0.     0.    ]\n",
            " [0.     0.     0.     0.     0.     1.     0.    ]\n",
            " [0.     0.     0.     1.     0.     0.     0.    ]\n",
            " [0.     0.     0.6667 0.     0.3333 0.     0.    ]\n",
            " [0.     0.     0.6667 0.     0.3333 0.     0.    ]]\n"
          ]
        }
      ]
    },
    {
      "cell_type": "markdown",
      "metadata": {
        "id": "yoXxXg1pJMQO"
      },
      "source": [
        "### Logistic Regression (이진 분류)"
      ]
    },
    {
      "cell_type": "code",
      "metadata": {
        "colab": {
          "base_uri": "https://localhost:8080/"
        },
        "id": "H6MS1wofJQKl",
        "outputId": "6dbcb285-4776-4197-cffd-35703aaa3b9f"
      },
      "source": [
        "from sklearn.linear_model import LogisticRegression\n",
        "\n",
        "## bream, smelt인 값을 가지는 배열 생성\n",
        "# numpy 논리 인덱싱을 이용 - ndarray에 논리연산자를 적용하면 true/false 논리 벡터가 리턴됨\n",
        "bream_smelt_indexes = (train_target == 'Bream') | (train_target == 'Smelt')\n",
        "\n",
        "# 논리 배열은 다른 ndarray의 인덱스 필터로 사용 될 수 있음\n",
        "# print(bream_smelt_indexes.shape)\n",
        "# print(bream_smelt_indexes)\n",
        "\n",
        "train_bream_smelt = train_scaled[bream_smelt_indexes]\n",
        "target_bream_smelt = train_target[bream_smelt_indexes]\n",
        "\n",
        "# 훈련\n",
        "lr = LogisticRegression()\n",
        "lr.fit(train_bream_smelt, target_bream_smelt)\n",
        "\n",
        "# 예측 (알파벳 순서에 따라서 0-Bream, 1-Smelt)\n",
        "print('----------------')\n",
        "print(lr.predict(train_bream_smelt[:5]))\n",
        "print(lr.predict_proba(train_bream_smelt[:5]))\n",
        "\n",
        "# sigmoid 값(예측값) - 양성에 대한 예측값\n",
        "print('----------------')\n",
        "from scipy.special import expit\n",
        "decisions = lr.decision_function(train_bream_smelt[:5])\n",
        "# coef - 가중치, intercept - bias\n",
        "print(lr.coef_, lr.intercept_)\n",
        "print(decisions)\n",
        "print(expit(decisions))\n"
      ],
      "execution_count": 30,
      "outputs": [
        {
          "output_type": "stream",
          "name": "stdout",
          "text": [
            "----------------\n",
            "['Bream' 'Smelt' 'Bream' 'Bream' 'Bream']\n",
            "[[0.99759855 0.00240145]\n",
            " [0.02735183 0.97264817]\n",
            " [0.99486072 0.00513928]\n",
            " [0.98584202 0.01415798]\n",
            " [0.99767269 0.00232731]]\n",
            "----------------\n",
            "[[-0.4037798  -0.57620209 -0.66280298 -1.01290277 -0.73168947]] [-2.16155132]\n",
            "[-6.02927744  3.57123907 -5.26568906 -4.24321775 -6.0607117 ]\n",
            "[0.00240145 0.97264817 0.00513928 0.01415798 0.00232731]\n"
          ]
        }
      ]
    },
    {
      "cell_type": "markdown",
      "source": [
        "### Logistic Regression (다중 분류)"
      ],
      "metadata": {
        "id": "XBG5P7G-xi1L"
      }
    },
    {
      "cell_type": "code",
      "source": [
        "# max_iter - 반복횟수 (기본값은 100)\n",
        "# C - 규제의 강도 (기본값 - 1, 값이 올라가면 규제가 약해짐, 내려가면 규제가 강해짐)\n",
        "lr = LogisticRegression(C=20, max_iter=1000)\n",
        "\n",
        "lr.fit(train_scaled, train_target)\n",
        "\n",
        "print(lr.score(train_scaled, train_target))\n",
        "print(lr.score(test_scaled, test_target))\n",
        "\n",
        "proba = lr.predict_proba(test_scaled[:5])\n",
        "print(np.round(proba, decimals=3))\n",
        "\n",
        "# 클래스 별 선형함수가 만들어 짐 - 7개\n",
        "# 각 클래스 별 선형함수는 이진분류를 수행 (One vs Rest, One vs All)\n",
        "# 각 클래스 별 확률값을 더해서 1을 만들기 위해서 Softmax 함수 이용\n",
        "print(lr.coef_.shape, lr.intercept_.shape)\n",
        "\n",
        "print('----------------')\n",
        "decision = lr.decision_function(test_scaled[:5])\n",
        "print(np.round(decision, decimals=2))\n",
        "\n",
        "from scipy.special import softmax\n",
        "proba = softmax(decision, axis=1)\n",
        "print(np.round(proba, decimals=3))"
      ],
      "metadata": {
        "colab": {
          "base_uri": "https://localhost:8080/"
        },
        "id": "hU80EfzGsd-A",
        "outputId": "44e0c1aa-b6f9-485a-8d9e-cc509512fb23"
      },
      "execution_count": 29,
      "outputs": [
        {
          "output_type": "stream",
          "name": "stdout",
          "text": [
            "0.9327731092436975\n",
            "0.925\n",
            "[[0.    0.014 0.841 0.    0.136 0.007 0.003]\n",
            " [0.    0.003 0.044 0.    0.007 0.946 0.   ]\n",
            " [0.    0.    0.034 0.935 0.015 0.016 0.   ]\n",
            " [0.011 0.034 0.306 0.007 0.567 0.    0.076]\n",
            " [0.    0.    0.904 0.002 0.089 0.002 0.001]]\n",
            "(7, 5) (7,)\n",
            "----------------\n",
            "[[ -6.5    1.03   5.16  -2.73   3.34   0.33  -0.63]\n",
            " [-10.86   1.93   4.77  -2.4    2.98   7.84  -4.26]\n",
            " [ -4.34  -6.23   3.17   6.49   2.36   2.42  -3.87]\n",
            " [ -0.68   0.45   2.65  -1.19   3.26  -5.75   1.26]\n",
            " [ -6.4   -1.99   5.82  -0.11   3.5   -0.11  -0.71]]\n",
            "[[0.    0.014 0.841 0.    0.136 0.007 0.003]\n",
            " [0.    0.003 0.044 0.    0.007 0.946 0.   ]\n",
            " [0.    0.    0.034 0.935 0.015 0.016 0.   ]\n",
            " [0.011 0.034 0.306 0.007 0.567 0.    0.076]\n",
            " [0.    0.    0.904 0.002 0.089 0.002 0.001]]\n"
          ]
        }
      ]
    },
    {
      "cell_type": "code",
      "source": [],
      "metadata": {
        "id": "8nXNMRBbyURx"
      },
      "execution_count": null,
      "outputs": []
    }
  ]
}